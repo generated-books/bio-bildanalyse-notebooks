{
 "cells": [
  {
   "cell_type": "markdown",
   "id": "10cc5ddb-417d-43cd-ba12-e4c781850d67",
   "metadata": {},
   "source": [
    "# Importieren von Funktionen und Paketen\n",
    "\n",
    "Sehr oft ben\u00f6tigen wir Werkzeuge, die nicht direkt von der Standard-Python-Bibliothek bereitgestellt werden. In diesem Fall m\u00fcssen wir die erforderlichen Funktionen aus Modulen oder Paketen in unsere Notebooks oder Skripte importieren. Einige Module kommen direkt mit der Python-Distribution (wie das math-Modul, das in [Grundlegende Mathematik in Python](Math_in_python.ipynb) zu sehen ist), und einige andere wie Numpy, scikit-image usw. sind externe Pakete, die mit pip oder conda installiert werden. Beim Importieren funktionieren sie auf die gleiche Weise, und wir haben mehrere M\u00f6glichkeiten, einzelne Funktionen oder Gruppen davon zu importieren."
   ]
  },
  {
   "cell_type": "markdown",
   "id": "ab468beb-e517-4468-86bb-bf6b8ba96a9f",
   "metadata": {},
   "source": [
    "## Grundlegendes Importieren\n",
    "\n",
    "Die grundlegende Import-Anweisung verwendet die Schl\u00fcsselw\u00f6rter ```import``` und den Modulnamen. Zum Beispiel mit dem grundlegenden Python-Modul ```pathlib```, das sich mit Dateipfaden und -namen befasst:"
   ]
  },
  {
   "cell_type": "code",
   "execution_count": 13,
   "id": "d00dce4e-c426-484c-bd41-2905dc99f59c",
   "metadata": {},
   "outputs": [],
   "source": [
    "import pathlib"
   ]
  },
  {
   "cell_type": "markdown",
   "id": "130dff08-9326-4df4-999f-fb98d1172617",
   "metadata": {},
   "source": [
    "Wenn wir ein externes Paket importieren m\u00f6chten, m\u00fcssen wir sicherstellen, dass es tats\u00e4chlich installiert ist, andernfalls erhalten wir eine Fehlermeldung:"
   ]
  },
  {
   "cell_type": "code",
   "execution_count": 14,
   "id": "3d20edb7-7cec-4ea0-a46a-51f7584bf635",
   "metadata": {},
   "outputs": [
    {
     "ename": "ModuleNotFoundError",
     "evalue": "No module named 'absent_package'",
     "output_type": "error",
     "traceback": [
      "\u001b[0;31m---------------------------------------------------------------------------\u001b[0m",
      "\u001b[0;31mModuleNotFoundError\u001b[0m                       Traceback (most recent call last)",
      "Input \u001b[0;32mIn [14]\u001b[0m, in \u001b[0;36m<cell line: 1>\u001b[0;34m()\u001b[0m\n\u001b[0;32m----> 1\u001b[0m \u001b[38;5;28;01mimport\u001b[39;00m \u001b[38;5;21;01mabsent_package\u001b[39;00m\n",
      "\u001b[0;31mModuleNotFoundError\u001b[0m: No module named 'absent_package'"
     ]
    }
   ],
   "source": [
    "import absent_package"
   ]
  },
  {
   "cell_type": "markdown",
   "id": "e8cfed05-6309-4c37-8ee1-a0ab74a70552",
   "metadata": {},
   "source": [
    "Wenn Ihnen ein Paket fehlt, k\u00f6nnen Sie es direkt aus dem Notebook mit pip oder conda installieren. Wenn Numpy zum Beispiel noch nicht installiert ist, k\u00f6nnten Sie Folgendes ausf\u00fchren:"
   ]
  },
  {
   "cell_type": "code",
   "execution_count": 41,
   "id": "6cb89fc2-a2c1-44ca-915c-bfd9f185a368",
   "metadata": {},
   "outputs": [
    {
     "name": "stdout",
     "output_type": "stream",
     "text": [
      "Collecting package metadata (current_repodata.json): done\n",
      "Solving environment: done\n",
      "\n",
      "# All requested packages already installed.\n",
      "\n",
      "\n",
      "Note: you may need to restart the kernel to use updated packages.\n"
     ]
    }
   ],
   "source": [
    "conda install -c conda-forge numpy"
   ]
  },
  {
   "cell_type": "markdown",
   "id": "adbad354-b227-41d1-bc97-7b4a386dc8cc",
   "metadata": {},
   "source": [
    "## Alternative Importformulierung\n",
    "\n",
    "Mit der einfachen Formulierung oben erhalten wir Zugriff auf Funktionen, die direkt an das Hauptpaket angeh\u00e4ngt sind. Lassen Sie uns das Numpy-Paket importieren, das wir sp\u00e4ter zur Bildverarbeitung verwenden werden. Wir k\u00f6nnen es importieren:"
   ]
  },
  {
   "cell_type": "code",
   "execution_count": 15,
   "id": "c5374a88-b2cf-4963-b076-616bfaeb6aff",
   "metadata": {},
   "outputs": [],
   "source": [
    "import numpy"
   ]
  },
  {
   "cell_type": "markdown",
   "id": "caf83b1e-76e7-4a2b-aabb-2180dae9148f",
   "metadata": {},
   "source": [
    "und jetzt erhalten wir z.B. Zugriff auf die Kosinus-Funktion von Numpy, indem wir einfach die Punkt-Notation verwenden:"
   ]
  },
  {
   "cell_type": "code",
   "execution_count": 16,
   "id": "952e16a1-9684-4867-9273-247ad6707eeb",
   "metadata": {},
   "outputs": [
    {
     "data": {
      "text/plain": [
       "-0.9999987317275395"
      ]
     },
     "execution_count": 16,
     "metadata": {},
     "output_type": "execute_result"
    }
   ],
   "source": [
    "numpy.cos(3.14)"
   ]
  },
  {
   "cell_type": "markdown",
   "id": "f73a553c-1cec-4ad8-a8f9-6601d03e788f",
   "metadata": {},
   "source": [
    "Um alle in einem Paket oder Modul verf\u00fcgbaren Funktionen zu finden, m\u00fcssen Sie normalerweise in die Dokumentation gehen und nach der *Application Programming Interface* oder *API* suchen. Hier finden wir zum Beispiel eine Beschreibung aller mathematischen Funktionen (einschlie\u00dflich des Kosinus) von Numpy: https://numpy.org/doc/stable/reference/routines.math.html"
   ]
  },
  {
   "cell_type": "markdown",
   "id": "42490a15-3988-4359-a1c6-9a9c588a3c0e",
   "metadata": {},
   "source": [
    "### Namensverk\u00fcrzung\n",
    "\n",
    "Wenn wir ein Paket regelm\u00e4\u00dfig verwenden, m\u00f6chten wir vielleicht nicht jedes Mal den vollst\u00e4ndigen Paketnamen schreiben, wenn wir eine Funktion daraus ben\u00f6tigen. Um das zu vermeiden, k\u00f6nnen wir es beim Importieren mit der ```as```-Anweisung abk\u00fcrzen:"
   ]
  },
  {
   "cell_type": "code",
   "execution_count": 17,
   "id": "f3ab4b68-d1a6-4708-aafb-a95c9efee4a8",
   "metadata": {},
   "outputs": [],
   "source": [
    "import numpy as np"
   ]
  },
  {
   "cell_type": "code",
   "execution_count": 18,
   "id": "b19bb26d-d119-4120-8152-0336c949c069",
   "metadata": {},
   "outputs": [
    {
     "data": {
      "text/plain": [
       "-0.9999987317275395"
      ]
     },
     "execution_count": 18,
     "metadata": {},
     "output_type": "execute_result"
    }
   ],
   "source": [
    "np.cos(3.14)"
   ]
  },
  {
   "cell_type": "markdown",
   "id": "60f63fce-d4dc-42ff-b4e7-4b168d709bab",
   "metadata": {},
   "source": [
    "### Spezifische Funktionen\n",
    "\n",
    "Wenn wir nur eine bestimmte Funktion aus einem Paket ben\u00f6tigen, k\u00f6nnen wir sie auch einfach mit der ```from```-Anweisung importieren. Zum Beispiel, wenn wir nur die ```np.cos```-Funktion von oben importieren m\u00f6chten:"
   ]
  },
  {
   "cell_type": "code",
   "execution_count": 19,
   "id": "918ca0db-90e9-47b3-9c53-4652049843f1",
   "metadata": {},
   "outputs": [],
   "source": [
    "from numpy import cos"
   ]
  },
  {
   "cell_type": "code",
   "execution_count": 20,
   "id": "8374d32d-7a48-43cb-ad55-b564f87cc2b4",
   "metadata": {},
   "outputs": [
    {
     "data": {
      "text/plain": [
       "-0.9999987317275395"
      ]
     },
     "execution_count": 20,
     "metadata": {},
     "output_type": "execute_result"
    }
   ],
   "source": [
    "cos(3.14)"
   ]
  },
  {
   "cell_type": "markdown",
   "id": "23644840-840f-4ecd-b09a-4fee262678ce",
   "metadata": {},
   "source": [
    "Nat\u00fcrlich wissen wir in diesem Fall, wenn wir nicht die spezifische Zeile finden, in der die Funktion importiert wird, nicht, dass ```cos``` notwendigerweise zu Numpy geh\u00f6rt, da wir auch eine solche Funktion im Notebook definiert haben k\u00f6nnten."
   ]
  },
  {
   "cell_type": "markdown",
   "id": "ba26add4-d1dd-4123-90da-38d0b8d61409",
   "metadata": {},
   "source": [
    "## Untermodule\n",
    "\n",
    "In gr\u00f6\u00dferen Paketen wie Numpy sind einige Funktionen direkt aus dem Hauptpaket zug\u00e4nglich (wie ```np.cos```) und andere mit spezielleren Aufgaben sind nach Thema oder Bereich in Untermodule gruppiert. Zum Beispiel hat Numpy ein Untermodul f\u00fcr Verteilungen namens ```random```. Alle oben genannten Punkte gelten auch hier.\n",
    "\n",
    "Wir verwenden die Punkt-Notation, um auf Funktionen zuzugreifen, m\u00fcssen aber jetzt auch den Namen des Untermoduls angeben. Zum Beispiel die ```normal```-Funktion, die Zahlen aus einer Normalverteilung generiert:"
   ]
  },
  {
   "cell_type": "code",
   "execution_count": 31,
   "id": "108d12fd-041a-4f48-9f92-58479d5eb9cd",
   "metadata": {},
   "outputs": [
    {
     "data": {
      "text/plain": [
       "1.8077301364791438"
      ]
     },
     "execution_count": 31,
     "metadata": {},
     "output_type": "execute_result"
    }
   ],
   "source": [
    "np.random.normal()"
   ]
  },
  {
   "cell_type": "markdown",
   "id": "ff382ef6-de48-49b7-968b-7120fb505367",
   "metadata": {},
   "source": [
    "Wir k\u00f6nnen den Funktionsaufruf verk\u00fcrzen, indem wir nur das Untermodul importieren:"
   ]
  },
  {
   "cell_type": "code",
   "execution_count": 32,
   "id": "e60dc664-f66a-475c-86d5-44cdc8448826",
   "metadata": {},
   "outputs": [],
   "source": [
    "from numpy import random"
   ]
  },
  {
   "cell_type": "code",
   "execution_count": 33,
   "id": "8c8470b2-882f-4cda-8c1f-795c22db05ab",
   "metadata": {},
   "outputs": [
    {
     "data": {
      "text/plain": [
       "0.0909924357071552"
      ]
     },
     "execution_count": 33,
     "metadata": {},
     "output_type": "execute_result"
    }
   ],
   "source": [
    "random.normal()"
   ]
  },
  {
   "cell_type": "markdown",
   "id": "f7e64bd9-1127-43cb-96db-60a12a56ea48",
   "metadata": {},
   "source": [
    "und wir k\u00f6nnen es weiter verk\u00fcrzen, indem wir nur die Funktion importieren:"
   ]
  },
  {
   "cell_type": "code",
   "execution_count": 34,
   "id": "eb009d0d-5b8f-49ab-8a5e-d16c972837b8",
   "metadata": {},
   "outputs": [],
   "source": [
    "from numpy.random import normal"
   ]
  },
  {
   "cell_type": "code",
   "execution_count": 35,
   "id": "5533cd1d-1f0e-47d7-acb5-ad0ea6772019",
   "metadata": {},
   "outputs": [
    {
     "data": {
      "text/plain": [
       "0.0038794083334154307"
      ]
     },
     "execution_count": 35,
     "metadata": {},
     "output_type": "execute_result"
    }
   ],
   "source": [
    "normal()"
   ]
  },
  {
   "cell_type": "markdown",
   "id": "cc770a20-0014-4b6c-b12e-3fa6b1d72f22",
   "metadata": {},
   "source": [
    "## \u00dcbung\n",
    "\n",
    "Das Numpy-Paket hat ein lineares Algebra-Untermodul namens ```linalg```. Der folgende Code berechnet die Norm eines Vektors: ```np.linalg.norm([1,2])```. Versuchen Sie:\n",
    "- nur das Untermodul zu importieren und die gleiche Funktion aufzurufen\n",
    "- nur die ```norm```-Funktion zu importieren und sie aufzurufen\n",
    " "
   ]
  },
  {
   "cell_type": "code",
   "execution_count": null,
   "id": "72dc7b73-b072-411d-92f3-a7c9cce4395f",
   "metadata": {},
   "outputs": [],
   "source": []
  }
 ],
 "metadata": {
  "kernelspec": {
   "display_name": "Python 3 (ipykernel)",
   "language": "python",
   "name": "python3"
  },
  "language_info": {
   "codemirror_mode": {
    "name": "ipython",
    "version": 3
   },
   "file_extension": ".py",
   "mimetype": "text/x-python",
   "name": "python",
   "nbconvert_exporter": "python",
   "pygments_lexer": "ipython3",
   "version": "3.9.19"
  }
 },
 "nbformat": 4,
 "nbformat_minor": 5
}