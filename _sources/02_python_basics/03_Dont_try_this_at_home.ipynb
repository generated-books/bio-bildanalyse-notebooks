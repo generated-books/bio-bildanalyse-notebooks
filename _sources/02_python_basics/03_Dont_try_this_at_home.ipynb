{
 "cells": [
  {
   "cell_type": "markdown",
   "id": "frank-basement",
   "metadata": {},
   "source": [
    "# Fallstricke bei der Arbeit mit Jupyter-Notebooks\n",
    "Sie k\u00f6nnen dieselbe Zelle in Jupyter-Notebooks mehrmals ausf\u00fchren. Dies kann zu Notebooks f\u00fchren, die f\u00fcr den Leser keinen Sinn ergeben."
   ]
  },
  {
   "cell_type": "code",
   "execution_count": 3,
   "id": "metallic-classification",
   "metadata": {},
   "outputs": [],
   "source": [
    "a = 5\n",
    "b = 5"
   ]
  },
  {
   "cell_type": "code",
   "execution_count": 6,
   "id": "wired-crowd",
   "metadata": {},
   "outputs": [],
   "source": [
    "a = a + 1"
   ]
  },
  {
   "cell_type": "code",
   "execution_count": 7,
   "id": "shaped-capital",
   "metadata": {},
   "outputs": [
    {
     "data": {
      "text/plain": [
       "13"
      ]
     },
     "execution_count": 7,
     "metadata": {},
     "output_type": "execute_result"
    }
   ],
   "source": [
    "a + b"
   ]
  },
  {
   "cell_type": "markdown",
   "id": "olympic-vienna",
   "metadata": {},
   "source": [
    "Sie k\u00f6nnen sie in der falschen Reihenfolge ausf\u00fchren, was zum gleichen Effekt f\u00fchrt."
   ]
  },
  {
   "cell_type": "code",
   "execution_count": 10,
   "id": "backed-shaft",
   "metadata": {},
   "outputs": [],
   "source": [
    "d = 5"
   ]
  },
  {
   "cell_type": "code",
   "execution_count": 9,
   "id": "military-bedroom",
   "metadata": {},
   "outputs": [],
   "source": [
    "d = 10"
   ]
  },
  {
   "cell_type": "code",
   "execution_count": 11,
   "id": "radical-shakespeare",
   "metadata": {},
   "outputs": [
    {
     "data": {
      "text/plain": [
       "5"
      ]
     },
     "execution_count": 11,
     "metadata": {},
     "output_type": "execute_result"
    }
   ],
   "source": [
    "d"
   ]
  },
  {
   "cell_type": "markdown",
   "id": "persistent-porcelain",
   "metadata": {},
   "source": [
    "Sie k\u00f6nnen erkennen, dass Zellen in der falschen Reihenfolge, wiederholt oder nicht nacheinander ausgef\u00fchrt wurden, indem Sie die Nummer `In [?]` links lesen.\n",
    "\n",
    "![](cell_execution_number.png)\n",
    "\n",
    "Tipp: Wenn Ihr Notebook fertig ist, klicken Sie im Men\u00fc auf `Kernel > Restart & Run all`, um sicherzustellen, dass alle Zellen im Notebook in der richtigen Reihenfolge ausgef\u00fchrt werden."
   ]
  },
  {
   "cell_type": "code",
   "execution_count": null,
   "id": "conservative-cyprus",
   "metadata": {},
   "outputs": [],
   "source": []
  }
 ],
 "metadata": {
  "kernelspec": {
   "display_name": "Python 3 (ipykernel)",
   "language": "python",
   "name": "python3"
  },
  "language_info": {
   "codemirror_mode": {
    "name": "ipython",
    "version": 3
   },
   "file_extension": ".py",
   "mimetype": "text/x-python",
   "name": "python",
   "nbconvert_exporter": "python",
   "pygments_lexer": "ipython3",
   "version": "3.9.0"
  }
 },
 "nbformat": 4,
 "nbformat_minor": 5
}