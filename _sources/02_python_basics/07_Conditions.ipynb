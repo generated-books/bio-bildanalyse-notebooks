{
 "cells": [
  {
   "cell_type": "markdown",
   "id": "casual-purpose",
   "metadata": {},
   "source": [
    "# Bedingungen\n",
    "Die `if`-Anweisung kann verwendet werden, um Code bedingt auszuf\u00fchren. Das bedeutet, nur wenn ein Ausdruck wahr ist. \n",
    "\n",
    "Siehe auch:\n",
    "* [if\u2026elif\u2026else in Python](https://www.datacamp.com/community/tutorials/elif-statements-python)\n",
    "\n",
    "Schauen wir uns zun\u00e4chst einige Ausdr\u00fccke an"
   ]
  },
  {
   "cell_type": "code",
   "execution_count": 1,
   "id": "sensitive-graham",
   "metadata": {},
   "outputs": [
    {
     "data": {
      "text/plain": [
       "False"
      ]
     },
     "execution_count": 1,
     "metadata": {},
     "output_type": "execute_result"
    }
   ],
   "source": [
    "3 > 4"
   ]
  },
  {
   "cell_type": "code",
   "execution_count": 2,
   "id": "spare-official",
   "metadata": {},
   "outputs": [
    {
     "data": {
      "text/plain": [
       "False"
      ]
     },
     "execution_count": 2,
     "metadata": {},
     "output_type": "execute_result"
    }
   ],
   "source": [
    "a = 3\n",
    "b = 4\n",
    "\n",
    "a > b"
   ]
  },
  {
   "cell_type": "code",
   "execution_count": 3,
   "id": "olive-supervisor",
   "metadata": {},
   "outputs": [
    {
     "data": {
      "text/plain": [
       "True"
      ]
     },
     "execution_count": 3,
     "metadata": {},
     "output_type": "execute_result"
    }
   ],
   "source": [
    "a < b"
   ]
  },
  {
   "cell_type": "code",
   "execution_count": 4,
   "id": "gorgeous-summit",
   "metadata": {},
   "outputs": [
    {
     "data": {
      "text/plain": [
       "True"
      ]
     },
     "execution_count": 4,
     "metadata": {},
     "output_type": "execute_result"
    }
   ],
   "source": [
    "# ungleich\n",
    "a != b"
   ]
  },
  {
   "cell_type": "code",
   "execution_count": 5,
   "id": "assisted-governor",
   "metadata": {},
   "outputs": [
    {
     "data": {
      "text/plain": [
       "False"
      ]
     },
     "execution_count": 5,
     "metadata": {},
     "output_type": "execute_result"
    }
   ],
   "source": [
    "# gleich\n",
    "a == b"
   ]
  },
  {
   "cell_type": "code",
   "execution_count": 6,
   "id": "looking-activation",
   "metadata": {},
   "outputs": [],
   "source": [
    "# Hinweis: Verwechsle es nicht mit diesem:\n",
    "a = b"
   ]
  },
  {
   "cell_type": "markdown",
   "id": "complimentary-blade",
   "metadata": {},
   "source": [
    "## Die `if`-Anweisung\n",
    "Nach der Verwendung von `if` in Kombination mit einem Ausdruck m\u00fcssen Sie einen Doppelpunkt `:` setzen und der folgende Code muss einger\u00fcckt sein:"
   ]
  },
  {
   "cell_type": "code",
   "execution_count": 7,
   "id": "cathedral-circumstances",
   "metadata": {},
   "outputs": [
    {
     "name": "stdout",
     "output_type": "stream",
     "text": [
      "Math is great.\n"
     ]
    }
   ],
   "source": [
    "if 3 < 4:\n",
    "    print(\"Mathematik ist gro\u00dfartig.\")"
   ]
  },
  {
   "cell_type": "code",
   "execution_count": 8,
   "id": "provincial-pulse",
   "metadata": {},
   "outputs": [],
   "source": [
    "if 3 > 4:\n",
    "    print(\"Mathematik ist seltsam.\")"
   ]
  },
  {
   "cell_type": "markdown",
   "id": "affecting-robert",
   "metadata": {},
   "source": [
    "Sie k\u00f6nnen auch komplexere Vergleiche schreiben:"
   ]
  },
  {
   "cell_type": "code",
   "execution_count": 9,
   "id": "noble-safety",
   "metadata": {},
   "outputs": [
    {
     "name": "stdout",
     "output_type": "stream",
     "text": [
      "C is between 4 and 20.\n"
     ]
    }
   ],
   "source": [
    "c = 10\n",
    "\n",
    "if 4 < c < 20:\n",
    "    print(\"C liegt zwischen 4 und 20.\")"
   ]
  },
  {
   "cell_type": "markdown",
   "id": "minute-exclusion",
   "metadata": {},
   "source": [
    "Oder kombinieren Sie Ausdr\u00fccke mit `and` und `or`:"
   ]
  },
  {
   "cell_type": "code",
   "execution_count": 10,
   "id": "stuffed-intermediate",
   "metadata": {},
   "outputs": [],
   "source": [
    "if c > 4 and c < 10:\n",
    "    print(\"C liegt zwischen 4 und 20.\")"
   ]
  },
  {
   "cell_type": "markdown",
   "id": "democratic-cutting",
   "metadata": {},
   "source": [
    "Wenn Sie pr\u00fcfen m\u00f6chten, ob ein Element in einem Array enthalten ist, machen Sie es so:"
   ]
  },
  {
   "cell_type": "code",
   "execution_count": 11,
   "id": "disciplinary-spelling",
   "metadata": {},
   "outputs": [
    {
     "name": "stdout",
     "output_type": "stream",
     "text": [
      "Our list of animals contains a cat\n"
     ]
    }
   ],
   "source": [
    "animals = ['cat', 'dog', 'mouse']\n",
    "\n",
    "if 'cat' in animals:\n",
    "    print('Unsere Tierliste enth\u00e4lt eine Katze')"
   ]
  },
  {
   "cell_type": "markdown",
   "id": "vietnamese-instrument",
   "metadata": {},
   "source": [
    "Sie k\u00f6nnen auch Zeichenketten analysieren. Zum Beispiel pr\u00fcfen, ob sie mit bestimmten Zeichen beginnen oder enden:"
   ]
  },
  {
   "cell_type": "code",
   "execution_count": 12,
   "id": "demanding-scott",
   "metadata": {},
   "outputs": [
    {
     "name": "stdout",
     "output_type": "stream",
     "text": [
      "The file is an image!\n"
     ]
    }
   ],
   "source": [
    "filename = \"cells.tif\"\n",
    "\n",
    "if filename.endswith(\"tif\"):\n",
    "    print(\"Die Datei ist ein Bild!\")"
   ]
  },
  {
   "cell_type": "markdown",
   "id": "naked-penny",
   "metadata": {},
   "source": [
    "## Die `if-else`-Anweisung\n",
    "Wenn Sie zwei verschiedene Codest\u00fccke haben, die alternativ ausgef\u00fchrt werden sollen, verwenden Sie `if-else`:"
   ]
  },
  {
   "cell_type": "code",
   "execution_count": 13,
   "id": "sophisticated-forum",
   "metadata": {},
   "outputs": [
    {
     "name": "stdout",
     "output_type": "stream",
     "text": [
      "We need to improve our quality.\n"
     ]
    }
   ],
   "source": [
    "quality_in_percent = 89\n",
    "\n",
    "if quality_in_percent > 90:    \n",
    "    print(\"Unsere Qualit\u00e4t ist hoch genug.\")\n",
    "else:\n",
    "    print(\"Wir m\u00fcssen unsere Qualit\u00e4t verbessern.\")"
   ]
  },
  {
   "cell_type": "markdown",
   "id": "shared-ground",
   "metadata": {},
   "source": [
    "## Die `elif`-Anweisung\n",
    "Um Code abh\u00e4ngig von mehreren Bedingungen auszuf\u00fchren, verwenden Sie die `elif`-Anweisung:"
   ]
  },
  {
   "cell_type": "code",
   "execution_count": 14,
   "id": "compound-alliance",
   "metadata": {},
   "outputs": [
    {
     "name": "stdout",
     "output_type": "stream",
     "text": [
      "You scored 23 out of 30\n",
      "Your grade is 3\n"
     ]
    }
   ],
   "source": [
    "# Bestimmung der Pr\u00fcfungsnote abh\u00e4ngig von \n",
    "number_of_correct_points = 23\n",
    "number_of_total_points = 30\n",
    "\n",
    "# Prozentsatz berechnen\n",
    "percentage = number_of_correct_points / number_of_total_points * 100\n",
    "\n",
    "if percentage > 95:\n",
    "    grade = 1\n",
    "elif percentage > 80:\n",
    "    grade = 2\n",
    "elif percentage > 60:\n",
    "    grade = 3\n",
    "elif percentag > 50:\n",
    "    grade = 4\n",
    "else:\n",
    "    grade = 5\n",
    "    \n",
    "print(\"Sie haben\", number_of_correct_points, \"von\", number_of_total_points, \"Punkten erreicht\")\n",
    "print(\"Ihre Note ist\", grade)"
   ]
  },
  {
   "cell_type": "markdown",
   "id": "italic-motor",
   "metadata": {},
   "source": [
    "## \u00dcbung\n",
    "Schreiben Sie Python-Code, der abh\u00e4ngig von einer gegebenen Zeit die Tageszeit ausgibt, z.B. \"Morgen\", \"Mittag\", \"Nachmittag\", \"Abend\" und \"Nacht\"."
   ]
  },
  {
   "cell_type": "code",
   "execution_count": 15,
   "id": "hawaiian-bryan",
   "metadata": {},
   "outputs": [],
   "source": [
    "# es ist 12:15\n",
    "time_hours = 12\n",
    "time_minutes = 15"
   ]
  },
  {
   "cell_type": "code",
   "execution_count": null,
   "id": "biblical-style",
   "metadata": {},
   "outputs": [],
   "source": []
  }
 ],
 "metadata": {
  "kernelspec": {
   "display_name": "Python 3 (ipykernel)",
   "language": "python",
   "name": "python3"
  },
  "language_info": {
   "codemirror_mode": {
    "name": "ipython",
    "version": 3
   },
   "file_extension": ".py",
   "mimetype": "text/x-python",
   "name": "python",
   "nbconvert_exporter": "python",
   "pygments_lexer": "ipython3",
   "version": "3.9.0"
  }
 },
 "nbformat": 4,
 "nbformat_minor": 5
}