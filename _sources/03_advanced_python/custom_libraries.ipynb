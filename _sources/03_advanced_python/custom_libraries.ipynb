{
 "cells": [
  {
   "cell_type": "markdown",
   "id": "directed-compensation",
   "metadata": {},
   "source": [
    "# Eigene Bibliotheken\n",
    "Wenn Sie eine Zeit lang mit Python programmieren, verwenden Sie m\u00f6glicherweise immer wieder denselben Code. Sie k\u00f6nnten ihn von Jupyter Notebook zu Jupyter Notebook kopieren und einf\u00fcgen. Notebooks sind jedoch nicht daf\u00fcr gedacht, viele Funktionen zu enthalten. Notebooks sollen kurze und pr\u00e4gnante Codebeispiele zeigen. Um unseren Code zu organisieren, k\u00f6nnen wir Funktionen, die wir h\u00e4ufiger verwenden, in eine Python-Datei, eine eigene Bibliothek, packen und dann die Funktionen importieren.\n",
    "\n",
    "Siehe auch:\n",
    "* [Das Importsystem](https://docs.python.org/3/reference/import.html)\n",
    "\n",
    "Im selben Ordner existiert eine [my_library.py](my_library.py) Datei. Sie enth\u00e4lt zwei Funktionen. Lassen Sie uns diese importieren und verwenden:"
   ]
  },
  {
   "cell_type": "code",
   "execution_count": 1,
   "id": "collaborative-leisure",
   "metadata": {},
   "outputs": [],
   "source": [
    "from my_library import square"
   ]
  },
  {
   "cell_type": "code",
   "execution_count": 2,
   "id": "compressed-chassis",
   "metadata": {},
   "outputs": [
    {
     "data": {
      "text/plain": [
       "25"
      ]
     },
     "execution_count": 2,
     "metadata": {},
     "output_type": "execute_result"
    }
   ],
   "source": [
    "square(5)"
   ]
  },
  {
   "cell_type": "code",
   "execution_count": 4,
   "id": "coastal-franklin",
   "metadata": {},
   "outputs": [],
   "source": [
    "from my_library import *"
   ]
  },
  {
   "cell_type": "code",
   "execution_count": 5,
   "id": "defensive-small",
   "metadata": {},
   "outputs": [
    {
     "data": {
      "text/plain": [
       "2.449489742783178"
      ]
     },
     "execution_count": 5,
     "metadata": {},
     "output_type": "execute_result"
    }
   ],
   "source": [
    "wuzzle(5)"
   ]
  },
  {
   "cell_type": "markdown",
   "id": "aggregate-invalid",
   "metadata": {},
   "source": [
    "Achten Sie bei der Pflege Ihrer eigenen Funktionsbibliothek darauf, dass die Funktionen sinnvolle Namen und n\u00fctzliche Docstrings haben. Andernfalls k\u00f6nnten Sie sp\u00e4ter \u00fcber Ihren eigenen Code verwirrt sein.\n",
    "\n",
    "Dies ist ein gutes Beispiel:"
   ]
  },
  {
   "cell_type": "code",
   "execution_count": 6,
   "id": "catholic-afternoon",
   "metadata": {},
   "outputs": [
    {
     "name": "stdout",
     "output_type": "stream",
     "text": [
      "\n",
      "    Squares a number by multiplying it with itself  and returns its result.\n",
      "    \n"
     ]
    }
   ],
   "source": [
    "print(square.__doc__)"
   ]
  },
  {
   "cell_type": "markdown",
   "id": "textile-cricket",
   "metadata": {},
   "source": [
    "Dies ist ein schlechtes Beispiel:"
   ]
  },
  {
   "cell_type": "code",
   "execution_count": 8,
   "id": "lesbian-candy",
   "metadata": {},
   "outputs": [
    {
     "name": "stdout",
     "output_type": "stream",
     "text": [
      "\n",
      "    The wuzzle function manipulates a number in a magic way and returns the result.\n",
      "    \n"
     ]
    }
   ],
   "source": [
    "print(wuzzle.__doc__)"
   ]
  },
  {
   "cell_type": "markdown",
   "id": "approved-violence",
   "metadata": {},
   "source": [
    "## \u00c4ndern von Code in eigenen Bibliotheken\n",
    "Wenn Sie Code in einer Python-Bibliotheksdatei parallel zum Code in einem Notebook \u00e4ndern, m\u00fcssen Sie m\u00f6glicherweise Ihr Notebook neu starten, nachdem Sie die Bibliotheksdatei ge\u00e4ndert haben. Sie k\u00f6nnen dies im Men\u00fc unter `Kernel > Restart & Run All` tun."
   ]
  },
  {
   "cell_type": "markdown",
   "id": "liable-press",
   "metadata": {},
   "source": [
    "# \u00dcbung\n",
    "Erstellen Sie eine eigene Bibliothek und schreiben Sie eine Funktion, die den [Euklidischen Abstand](https://de.wikipedia.org/wiki/Euklidischer_Abstand) zwischen zwei Punkten berechnen kann. Die Punktkoordinaten werden als Tupel angegeben. Hinweis: Sie werden in dieser Funktion eine for-Schleife ben\u00f6tigen, die paarweise \u00fcber die beiden Koordinaten iteriert:"
   ]
  },
  {
   "cell_type": "code",
   "execution_count": 9,
   "id": "worse-reggae",
   "metadata": {},
   "outputs": [],
   "source": [
    "p = (1.5, 6.4, 7.3)\n",
    "q = (3.4, 1.0, 0.9)"
   ]
  },
  {
   "cell_type": "code",
   "execution_count": null,
   "id": "confident-incidence",
   "metadata": {},
   "outputs": [],
   "source": []
  }
 ],
 "metadata": {
  "kernelspec": {
   "display_name": "Python 3",
   "language": "python",
   "name": "python3"
  },
  "language_info": {
   "codemirror_mode": {
    "name": "ipython",
    "version": 3
   },
   "file_extension": ".py",
   "mimetype": "text/x-python",
   "name": "python",
   "nbconvert_exporter": "python",
   "pygments_lexer": "ipython3",
   "version": "3.9.4"
  }
 },
 "nbformat": 4,
 "nbformat_minor": 5
}