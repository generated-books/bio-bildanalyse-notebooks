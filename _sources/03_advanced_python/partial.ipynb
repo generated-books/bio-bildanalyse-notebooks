{
 "cells": [
  {
   "cell_type": "markdown",
   "id": "406c429a-7821-4c45-8865-aacf55d61248",
   "metadata": {},
   "source": [
    "# Partielle Funktionen\n",
    "In einigen Anwendungsf\u00e4llen kann es erforderlich sein, eine Funktion zusammen mit einigen Parametern in einer Variable zu sammeln, um sie sp\u00e4ter auszuf\u00fchren. [functools' `partial()`](https://docs.python.org/3/library/functools.html#functools.partial) erm\u00f6glicht dies."
   ]
  },
  {
   "cell_type": "code",
   "execution_count": 1,
   "id": "7ebf13ec-3c3e-4681-9292-a74b7259467c",
   "metadata": {},
   "outputs": [],
   "source": [
    "from functools import partial"
   ]
  },
  {
   "cell_type": "markdown",
   "id": "04cff01d-d240-468e-b628-09e92c05e01b",
   "metadata": {},
   "source": [
    "Zur Demonstration definieren wir eine Beispielfunktion."
   ]
  },
  {
   "cell_type": "code",
   "execution_count": 2,
   "id": "d0e94864-cb14-4138-ba12-75af252da731",
   "metadata": {},
   "outputs": [],
   "source": [
    "def compute_sum(a, b):\n",
    "    return a + b"
   ]
  },
  {
   "cell_type": "markdown",
   "id": "57337bd4-40e2-4afa-88df-df7fb94ef24d",
   "metadata": {},
   "source": [
    "Wir k\u00f6nnen dann das `partial`-Objekt dieser Funktion in Kombination mit den Parametern in einer Variable speichern."
   ]
  },
  {
   "cell_type": "code",
   "execution_count": 3,
   "id": "30b803b4-b38c-4466-80e2-1b0c29319b0f",
   "metadata": {},
   "outputs": [],
   "source": [
    "sum_of_3_and_4 = partial(compute_sum, 3, 4)"
   ]
  },
  {
   "cell_type": "markdown",
   "id": "d185265c-c293-48d4-9eb2-79121b809478",
   "metadata": {},
   "source": [
    "Dieses Objekt ist [aufrufbar](https://docs.python.org/3/library/typing.html#typing.Callable)."
   ]
  },
  {
   "cell_type": "code",
   "execution_count": 4,
   "id": "eaecf16d-f2e7-4a1e-a999-d01b2147763a",
   "metadata": {},
   "outputs": [
    {
     "data": {
      "text/plain": [
       "7"
      ]
     },
     "execution_count": 4,
     "metadata": {},
     "output_type": "execute_result"
    }
   ],
   "source": [
    "sum_of_3_and_4()"
   ]
  },
  {
   "cell_type": "markdown",
   "id": "988ee81d-d881-45db-9754-0b74642d3a45",
   "metadata": {},
   "source": [
    "## Parameter ungesetzt lassen\n",
    "Es ist auch m\u00f6glich, Parameter nur teilweise zu spezifizieren."
   ]
  },
  {
   "cell_type": "code",
   "execution_count": 5,
   "id": "38385592-cd2a-4e71-baaa-70ed55304243",
   "metadata": {},
   "outputs": [],
   "source": [
    "sum_of_3_and_b = partial(compute_sum, 3)"
   ]
  },
  {
   "cell_type": "code",
   "execution_count": 6,
   "id": "2b8a0919-971c-44b6-ac11-a054bc9893de",
   "metadata": {},
   "outputs": [
    {
     "data": {
      "text/plain": [
       "12"
      ]
     },
     "execution_count": 6,
     "metadata": {},
     "output_type": "execute_result"
    }
   ],
   "source": [
    "sum_of_3_and_b(9)"
   ]
  },
  {
   "cell_type": "markdown",
   "id": "0b89c247-9124-4027-a7ab-dcbabe260f14",
   "metadata": {},
   "source": [
    "## \u00dcbergeben von Schl\u00fcsselwortargumenten\n",
    "Es funktioniert auch mit Schl\u00fcsselwortargumenten."
   ]
  },
  {
   "cell_type": "code",
   "execution_count": 7,
   "id": "3e02d3be-19ab-4498-97b2-e5e7cd3e870c",
   "metadata": {},
   "outputs": [],
   "source": [
    "sum_of_a_and_4 = partial(compute_sum, b=4)"
   ]
  },
  {
   "cell_type": "code",
   "execution_count": 8,
   "id": "8e9b6ef5-ee4e-4160-b5f2-8878eb8e42ed",
   "metadata": {},
   "outputs": [
    {
     "data": {
      "text/plain": [
       "9"
      ]
     },
     "execution_count": 8,
     "metadata": {},
     "output_type": "execute_result"
    }
   ],
   "source": [
    "sum_of_a_and_4(5)"
   ]
  },
  {
   "cell_type": "code",
   "execution_count": 9,
   "id": "47cf1529-f687-46eb-bd6c-3cd36898ab72",
   "metadata": {},
   "outputs": [
    {
     "data": {
      "text/plain": [
       "5"
      ]
     },
     "execution_count": 9,
     "metadata": {},
     "output_type": "execute_result"
    }
   ],
   "source": [
    "sum_of_a_and_4(a=1)"
   ]
  },
  {
   "cell_type": "markdown",
   "id": "32af919d-a341-466d-b649-d80394221880",
   "metadata": {},
   "source": [
    "## \u00dcbung\n",
    "Programmieren Sie eine Funktion, die den euklidischen Abstand zwischen zwei Punkten bestimmt. Verwenden Sie anschlie\u00dfend `partial`, um einen festen Punkt zu \u00fcbergeben, und eine for-Schleife, um die Abst\u00e4nde zu einer Liste von Punkten auszugeben."
   ]
  },
  {
   "cell_type": "code",
   "execution_count": 10,
   "id": "afa7eef1-8e61-42fc-a7cf-3f7a66eb4775",
   "metadata": {},
   "outputs": [],
   "source": [
    "fixed_point = (1, 1, 1)\n",
    "list_of_points = [(2,1,1), (1,1,3), (2,2,2)]"
   ]
  },
  {
   "cell_type": "code",
   "execution_count": null,
   "id": "ab1be2f3-f99d-4a0f-8575-8bf0c042728f",
   "metadata": {},
   "outputs": [],
   "source": []
  },
  {
   "cell_type": "code",
   "execution_count": null,
   "id": "85e1e628-b528-4009-8b33-bfa06eb82cfd",
   "metadata": {},
   "outputs": [],
   "source": []
  }
 ],
 "metadata": {
  "kernelspec": {
   "display_name": "Python 3 (ipykernel)",
   "language": "python",
   "name": "python3"
  },
  "language_info": {
   "codemirror_mode": {
    "name": "ipython",
    "version": 3
   },
   "file_extension": ".py",
   "mimetype": "text/x-python",
   "name": "python",
   "nbconvert_exporter": "python",
   "pygments_lexer": "ipython3",
   "version": "3.9.7"
  }
 },
 "nbformat": 4,
 "nbformat_minor": 5
}