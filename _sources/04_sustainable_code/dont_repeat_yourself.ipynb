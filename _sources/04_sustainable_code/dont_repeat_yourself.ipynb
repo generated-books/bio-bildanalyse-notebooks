{
 "cells": [
  {
   "cell_type": "markdown",
   "id": "fd4907ce-c38c-4d48-a0f5-c2f77a03943b",
   "metadata": {},
   "source": [
    "# Wiederhole dich nicht\n",
    "\n",
    "Manchmal kopieren und f\u00fcgen wir Code mehrmals ein, um Bilder schnell zu verarbeiten. Langfristig ist diese Code-Duplizierung nicht gut f\u00fcr die Code-Qualit\u00e4t, denn wenn wir etwas \u00e4ndern wollen, m\u00fcssen wir es an mehreren Stellen \u00e4ndern und k\u00f6nnten einige vergessen. Daher ist die Vermeidung von sich wiederholendem Code entscheidend. Das Software-Design-Prinzip wird [Don't repeat yourself](https://en.wikipedia.org/wiki/Don%27t_repeat_yourself) (Wiederhole dich nicht) genannt."
   ]
  },
  {
   "cell_type": "code",
   "execution_count": 1,
   "id": "23d84e97-7c50-4a5f-a3e9-fda157acccdf",
   "metadata": {},
   "outputs": [],
   "source": [
    "import pyclesperanto_prototype as cle"
   ]
  },
  {
   "cell_type": "code",
   "execution_count": 2,
   "id": "f8f0181e-3290-4931-b77d-3ff26e1d06ab",
   "metadata": {},
   "outputs": [
    {
     "data": {
      "text/plain": [
       "44.0"
      ]
     },
     "execution_count": 2,
     "metadata": {},
     "output_type": "execute_result"
    }
   ],
   "source": [
    "image = cle.imread(\"../../data/BBBC007_batch/17P1_POS0013_D_1UL.tif\")\n",
    "labels = cle.voronoi_otsu_labeling(image, spot_sigma=3)\n",
    "number_of_nuclei = labels.max()\n",
    "number_of_nuclei"
   ]
  },
  {
   "cell_type": "code",
   "execution_count": 3,
   "id": "d1a23f73-cddc-496c-a21a-03bcfe469b20",
   "metadata": {},
   "outputs": [
    {
     "data": {
      "text/plain": [
       "41.0"
      ]
     },
     "execution_count": 3,
     "metadata": {},
     "output_type": "execute_result"
    }
   ],
   "source": [
    "image = cle.imread(\"../../data/BBBC007_batch/20P1_POS0005_D_1UL.tif\")\n",
    "labels = cle.voronoi_otsu_labeling(image, spot_sigma=3)\n",
    "number_of_nuclei = labels.max()\n",
    "number_of_nuclei"
   ]
  },
  {
   "cell_type": "code",
   "execution_count": 4,
   "id": "e7ac4af4-d786-434b-9637-e1a646f3c899",
   "metadata": {},
   "outputs": [
    {
     "data": {
      "text/plain": [
       "73.0"
      ]
     },
     "execution_count": 4,
     "metadata": {},
     "output_type": "execute_result"
    }
   ],
   "source": [
    "image = cle.imread(\"../../data/BBBC007_batch/20P1_POS0007_D_1UL.tif\")\n",
    "labels = cle.voronoi_otsu_labeling(image, spot_sigma=3)\n",
    "number_of_nuclei = labels.max()\n",
    "number_of_nuclei"
   ]
  },
  {
   "cell_type": "markdown",
   "id": "45f664ef-c36b-43a1-b4de-afb4b857ad00",
   "metadata": {},
   "source": [
    "Wenn wir jetzt sehen wollten, wie sich eine \u00c4nderung des `spot_sigma` Parameters oben auf das Ergebnis auswirkt, m\u00fcssten wir diesen Wert dreimal \u00e4ndern. Wenn der Code noch l\u00e4nger wird, kann es passieren, dass wir vergessen, ihn an einer Stelle zu \u00e4ndern.\n",
    "\n",
    "### For-Schleifen statt Code-Wiederholung\n",
    "Eine M\u00f6glichkeit, Code-Wiederholungen zu vermeiden, sind For-Schleifen."
   ]
  },
  {
   "cell_type": "code",
   "execution_count": 5,
   "id": "fcbb86dc-f20d-4f84-b73b-7ffa9174d7c6",
   "metadata": {},
   "outputs": [],
   "source": [
    "folder = \"../../data/BBBC007_batch/\"\n",
    "files = [\"17P1_POS0013_D_1UL.tif\",\n",
    "        \"20P1_POS0005_D_1UL.tif\",\n",
    "        \"20P1_POS0007_D_1UL.tif\"]"
   ]
  },
  {
   "cell_type": "code",
   "execution_count": 6,
   "id": "9b33d522-a7cd-4063-a9b5-ef006071f14a",
   "metadata": {},
   "outputs": [
    {
     "name": "stdout",
     "output_type": "stream",
     "text": [
      "17P1_POS0013_D_1UL.tif 44.0\n",
      "20P1_POS0005_D_1UL.tif 41.0\n",
      "20P1_POS0007_D_1UL.tif 73.0\n"
     ]
    }
   ],
   "source": [
    "for file in files:\n",
    "    image = cle.imread(folder + file)\n",
    "    labels = cle.voronoi_otsu_labeling(\n",
    "                    image, \n",
    "                    spot_sigma=3)\n",
    "    number_of_nuclei = labels.max()\n",
    "    print(file, number_of_nuclei)"
   ]
  },
  {
   "cell_type": "markdown",
   "id": "1fcda315-290c-43d3-aada-b92cd92602dd",
   "metadata": {},
   "source": [
    "### Funktionen statt Code-Wiederholung\n",
    "Wir k\u00f6nnen noch mehr Flexibilit\u00e4t gewinnen, indem wir sogenannte Hilfsfunktionen einf\u00fchren, die uns _helfen_, indem sie eine bestimmte Aufgabe erledigen, zum Beispiel das Z\u00e4hlen von Zellkernen:"
   ]
  },
  {
   "cell_type": "code",
   "execution_count": 7,
   "id": "b37c4de7-11a8-4e30-948e-57f4eeec1b93",
   "metadata": {},
   "outputs": [],
   "source": [
    "def count_nuclei(image, spot_sigma=3):\n",
    "    labels = cle.voronoi_otsu_labeling(\n",
    "                    image, \n",
    "                    spot_sigma=spot_sigma)\n",
    "    number_of_nuclei = labels.max()\n",
    "    \n",
    "    return number_of_nuclei"
   ]
  },
  {
   "cell_type": "code",
   "execution_count": 8,
   "id": "5c6750b1-9f0e-455d-864c-b17cbccbec7a",
   "metadata": {},
   "outputs": [
    {
     "data": {
      "text/plain": [
       "44.0"
      ]
     },
     "execution_count": 8,
     "metadata": {},
     "output_type": "execute_result"
    }
   ],
   "source": [
    "count_nuclei(cle.imread(folder + files[0]))"
   ]
  },
  {
   "cell_type": "code",
   "execution_count": 9,
   "id": "e4e8d662-b994-4509-89a4-8084253dd2ff",
   "metadata": {},
   "outputs": [
    {
     "data": {
      "text/plain": [
       "41.0"
      ]
     },
     "execution_count": 9,
     "metadata": {},
     "output_type": "execute_result"
    }
   ],
   "source": [
    "count_nuclei(cle.imread(folder + files[1]))"
   ]
  },
  {
   "cell_type": "code",
   "execution_count": 10,
   "id": "14a8c024-f4aa-47dd-aeed-118f0ba8c724",
   "metadata": {},
   "outputs": [
    {
     "data": {
      "text/plain": [
       "73.0"
      ]
     },
     "execution_count": 10,
     "metadata": {},
     "output_type": "execute_result"
    }
   ],
   "source": [
    "count_nuclei(cle.imread(folder + files[2]))"
   ]
  },
  {
   "cell_type": "code",
   "execution_count": 11,
   "id": "f886c39a-a59a-48d7-9eb2-a7993c197a0e",
   "metadata": {},
   "outputs": [
    {
     "data": {
      "text/plain": [
       "68.0"
      ]
     },
     "execution_count": 11,
     "metadata": {},
     "output_type": "execute_result"
    }
   ],
   "source": [
    "count_nuclei(cle.imread(folder + files[2]), spot_sigma=5)"
   ]
  }
 ],
 "metadata": {
  "kernelspec": {
   "display_name": "Python 3 (ipykernel)",
   "language": "python",
   "name": "python3"
  },
  "language_info": {
   "codemirror_mode": {
    "name": "ipython",
    "version": 3
   },
   "file_extension": ".py",
   "mimetype": "text/x-python",
   "name": "python",
   "nbconvert_exporter": "python",
   "pygments_lexer": "ipython3",
   "version": "3.9.15"
  }
 },
 "nbformat": 4,
 "nbformat_minor": 5
}