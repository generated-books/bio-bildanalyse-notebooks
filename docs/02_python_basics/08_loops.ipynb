{
 "cells": [
  {
   "cell_type": "markdown",
   "metadata": {},
   "source": [
    "# Schleifen\n",
    "Wenn Sie m\u00f6chten, dass Code wiederholt ausgef\u00fchrt wird, k\u00f6nnen Sie Schleifen verwenden.\n",
    "\n",
    "Siehe auch\n",
    "* [Python-Schleifen-Tutorial](https://www.youtube.com/watch?v=4dN4Cn4u2M0)\n",
    "* [Python for-Schleifen](https://www.w3schools.com/python/python_for_loops.asp)"
   ]
  },
  {
   "cell_type": "markdown",
   "metadata": {},
   "source": [
    "## For-Schleifen\n",
    "Um \u00fcber einen Bereich von Zahlen zu iterieren, k\u00f6nnen wir eine einfache `for`-Schleife und die [range](https://www.w3schools.com/python/ref_func_range.asp)-Funktion verwenden.\n",
    "\n",
    "In der folgenden Zelle wird der Befehl `print(i)` mehrmals f\u00fcr verschiedene Werte von `i` ausgef\u00fchrt. Wir **i**terieren \u00fcber einen Bereich von Werten: "
   ]
  },
  {
   "cell_type": "code",
   "execution_count": 1,
   "metadata": {},
   "outputs": [
    {
     "name": "stdout",
     "output_type": "stream",
     "text": [
      "0\n",
      "1\n",
      "2\n",
      "3\n",
      "4\n"
     ]
    }
   ],
   "source": [
    "for i in range(0, 5):\n",
    "    print(i)"
   ]
  },
  {
   "cell_type": "markdown",
   "metadata": {},
   "source": [
    "Beachten Sie, dass der obige einger\u00fcckte Code nur f\u00fcr die erste angegebene Zahl (0) ausgef\u00fchrt wird und bis zur letzten Zahl (5) fortgesetzt wird, diese aber nicht einschlie\u00dft.\n",
    "\n",
    "Sie k\u00f6nnen auch \u00fcber einen Zahlenbereich mit einem definierten Schritt iterieren, zum Beispiel Schritt 3:"
   ]
  },
  {
   "cell_type": "code",
   "execution_count": 2,
   "metadata": {},
   "outputs": [
    {
     "name": "stdout",
     "output_type": "stream",
     "text": [
      "0\n",
      "3\n",
      "6\n",
      "9\n"
     ]
    }
   ],
   "source": [
    "for i in range(0, 10, 3):\n",
    "    print(i)"
   ]
  },
  {
   "cell_type": "markdown",
   "metadata": {},
   "source": [
    "Das Iterieren \u00fcber Arrays erm\u00f6glicht es Ihnen, etwas mit allen Array-Elementen zu tun:"
   ]
  },
  {
   "cell_type": "code",
   "execution_count": 3,
   "metadata": {},
   "outputs": [
    {
     "name": "stdout",
     "output_type": "stream",
     "text": [
      "Dog\n",
      "Cat\n",
      "Mouse\n"
     ]
    }
   ],
   "source": [
    "for animal in [\"Dog\", \"Cat\", \"Mouse\"]:\n",
    "    print(animal)"
   ]
  },
  {
   "cell_type": "markdown",
   "metadata": {},
   "source": [
    "Sie k\u00f6nnen parallel \u00fcber zwei Arrays paarweise iterieren, wie folgt:"
   ]
  },
  {
   "cell_type": "code",
   "execution_count": 4,
   "metadata": {},
   "outputs": [
    {
     "name": "stdout",
     "output_type": "stream",
     "text": [
      "Paired measurements: 1 and 4\n",
      "Paired measurements: 9 and 5\n",
      "Paired measurements: 7 and 5\n",
      "Paired measurements: 1 and 7\n",
      "Paired measurements: 2 and 4\n",
      "Paired measurements: 8 and 5\n",
      "Paired measurements: 9 and 4\n",
      "Paired measurements: 2 and 6\n",
      "Paired measurements: 1 and 6\n",
      "Paired measurements: 7 and 5\n",
      "Paired measurements: 8 and 4\n"
     ]
    }
   ],
   "source": [
    "# going through arrays pair-wise\n",
    "measurement_1 = [1, 9, 7, 1, 2, 8, 9, 2, 1, 7, 8]\n",
    "measurement_2 = [4, 5, 5, 7, 4, 5, 4, 6, 6, 5, 4]\n",
    "\n",
    "for m_1, m_2 in zip(measurement_1, measurement_2):\n",
    "    print(\"Paired measurements: \" + str(m_1) + \" and \" + str(m_2))"
   ]
  },
  {
   "cell_type": "markdown",
   "metadata": {},
   "source": [
    "Wenn Sie auch den Index des Elements in der Liste wissen m\u00f6chten, verwenden Sie die [enumerate](https://realpython.com/python-enumerate/)-Funktion:"
   ]
  },
  {
   "cell_type": "code",
   "execution_count": 5,
   "metadata": {},
   "outputs": [
    {
     "name": "stdout",
     "output_type": "stream",
     "text": [
      "The animal number 0 in the list is Dog\n",
      "The animal number 1 in the list is Cat\n",
      "The animal number 2 in the list is Mouse\n"
     ]
    }
   ],
   "source": [
    "# numbering and iterating through collections\n",
    "for index, animal in enumerate([\"Dog\", \"Cat\", \"Mouse\"]):\n",
    "    print(\"The animal number \" + str(index) + \" in the list is \" + animal)\n"
   ]
  },
  {
   "cell_type": "markdown",
   "metadata": {},
   "source": [
    "## Generieren von Listen in Schleifen\n",
    "Man kann Listen mit Hilfe von for-Schleifen generieren. Die herk\u00f6mmliche Art, dies zu tun, beinhaltet mehrere Codezeilen:"
   ]
  },
  {
   "cell_type": "code",
   "execution_count": 6,
   "metadata": {},
   "outputs": [
    {
     "name": "stdout",
     "output_type": "stream",
     "text": [
      "[0, 2, 4, 6, 8]\n"
     ]
    }
   ],
   "source": [
    "# we start with an empty list\n",
    "numbers = []\n",
    "\n",
    "# and add elements\n",
    "for i in range(0, 5):\n",
    "    numbers.append(i * 2)\n",
    "    \n",
    "print(numbers)"
   ]
  },
  {
   "cell_type": "markdown",
   "metadata": {},
   "source": [
    "Man kann das auch k\u00fcrzer schreiben. Das zugrunde liegende Konzept nennt sich [Generatoren](https://wiki.python.org/moin/Generators)."
   ]
  },
  {
   "cell_type": "code",
   "execution_count": 7,
   "metadata": {},
   "outputs": [
    {
     "name": "stdout",
     "output_type": "stream",
     "text": [
      "[0, 2, 4, 6, 8]\n"
     ]
    }
   ],
   "source": [
    "numbers = [i * 2 for i in range(0, 5)]\n",
    "\n",
    "print(numbers)"
   ]
  },
  {
   "cell_type": "markdown",
   "metadata": {},
   "source": [
    "Die herk\u00f6mmliche Kombination mit einer if-Anweisung sieht so aus:"
   ]
  },
  {
   "cell_type": "code",
   "execution_count": 8,
   "metadata": {},
   "outputs": [
    {
     "name": "stdout",
     "output_type": "stream",
     "text": [
      "[2, 6]\n"
     ]
    }
   ],
   "source": [
    "# we start with an empty list\n",
    "numbers = []\n",
    "\n",
    "# and add elements\n",
    "for i in range(0, 5):\n",
    "    # check if the number is odd\n",
    "    if i % 2:\n",
    "        numbers.append(i * 2)\n",
    "    \n",
    "print(numbers)"
   ]
  },
  {
   "cell_type": "markdown",
   "metadata": {},
   "source": [
    "Und die Kurzversion so:"
   ]
  },
  {
   "cell_type": "code",
   "execution_count": 9,
   "metadata": {},
   "outputs": [
    {
     "name": "stdout",
     "output_type": "stream",
     "text": [
      "[2, 6]\n"
     ]
    }
   ],
   "source": [
    "numbers = [i * 2 for i in range(0, 5) if i % 2]\n",
    "\n",
    "print(numbers)"
   ]
  },
  {
   "cell_type": "markdown",
   "metadata": {},
   "source": [
    "## While-Schleifen\n",
    "Eine andere Art der Schleife ist die `while`-Schleife. Sie funktioniert, indem sie eine Bedingung \u00fcberpr\u00fcft, \u00e4hnlich der `if`-Anweisung. Sie unterbricht die Ausf\u00fchrung, sobald die Bedingung nicht mehr wahr ist:"
   ]
  },
  {
   "cell_type": "code",
   "execution_count": 10,
   "metadata": {},
   "outputs": [
    {
     "name": "stdout",
     "output_type": "stream",
     "text": [
      "512.0\n",
      "256.0\n",
      "128.0\n",
      "64.0\n",
      "32.0\n",
      "16.0\n",
      "8.0\n",
      "4.0\n",
      "2.0\n",
      "1.0\n"
     ]
    }
   ],
   "source": [
    "number = 1024\n",
    "\n",
    "while (number > 1):\n",
    "    number = number / 2\n",
    "    print(number)"
   ]
  },
  {
   "cell_type": "markdown",
   "metadata": {},
   "source": [
    "## Unterbrechen von Schleifen\n",
    "Sie k\u00f6nnen Schleifen an bestimmten Stellen in Ihrem Code mit dem Befehl `break` unterbrechen:"
   ]
  },
  {
   "cell_type": "code",
   "execution_count": 11,
   "metadata": {},
   "outputs": [
    {
     "name": "stdout",
     "output_type": "stream",
     "text": [
      "512.0\n",
      "256.0\n",
      "128.0\n",
      "64.0\n",
      "32.0\n",
      "16.0\n",
      "8.0\n",
      "4.0\n",
      "2.0\n",
      "1.0\n",
      "0.5\n"
     ]
    }
   ],
   "source": [
    "number = 1024\n",
    "\n",
    "while (True):\n",
    "    number = number / 2\n",
    "    print(number)\n",
    "    \n",
    "    if number < 1:\n",
    "        break;"
   ]
  },
  {
   "cell_type": "code",
   "execution_count": 12,
   "metadata": {},
   "outputs": [
    {
     "name": "stdout",
     "output_type": "stream",
     "text": [
      "0\n",
      "1\n",
      "2\n",
      "3\n",
      "4\n",
      "5\n",
      "6\n"
     ]
    }
   ],
   "source": [
    "for i in range(10):\n",
    "    print(i)\n",
    "    if i > 5:\n",
    "        break"
   ]
  },
  {
   "cell_type": "markdown",
   "metadata": {},
   "source": [
    "## \u00dcberspringen von Iterationen in Schleifen\n",
    "Wenn Sie Iterationen \u00fcberspringen m\u00f6chten, k\u00f6nnen Sie die `continue`-Anweisung verwenden. Das macht oft in Kombination mit einem `if` Sinn:"
   ]
  },
  {
   "cell_type": "code",
   "execution_count": 13,
   "metadata": {},
   "outputs": [
    {
     "name": "stdout",
     "output_type": "stream",
     "text": [
      "0\n",
      "1\n",
      "2\n",
      "7\n",
      "8\n",
      "9\n"
     ]
    }
   ],
   "source": [
    "for i in range(0, 10):\n",
    "    if i >= 3 and i <= 6:\n",
    "        continue\n",
    "    print(i)"
   ]
  },
  {
   "cell_type": "markdown",
   "metadata": {},
   "source": [
    "## \u00dcbung 1\n",
    "Angenommen, Sie haben eine Liste von Dateinamen und m\u00f6chten etwas damit machen, zum Beispiel sie ausgeben. Programmieren Sie eine for-Schleife, die alle Dateinamen ausgibt, die mit \"tif\" enden."
   ]
  },
  {
   "cell_type": "code",
   "execution_count": 14,
   "metadata": {},
   "outputs": [],
   "source": [
    "file_names = ['dataset1.tif', 'dataset2.tif', 'summary.csv', 'readme.md', 'blobs.tif']"
   ]
  },
  {
   "cell_type": "code",
   "execution_count": null,
   "metadata": {},
   "outputs": [],
   "source": []
  },
  {
   "cell_type": "markdown",
   "metadata": {},
   "source": [
    "## \u00dcbung 2\n",
    "Angenommen, Sie haben eine Liste von Kreisradien. Erstellen Sie eine Tabelle (Dictionary) mit zwei Spalten: Radius und Fl\u00e4che."
   ]
  },
  {
   "cell_type": "code",
   "execution_count": 15,
   "metadata": {},
   "outputs": [],
   "source": [
    "radii = [3, 15, 67, 33, 12, 8, 12, 9, 22]"
   ]
  },
  {
   "cell_type": "code",
   "execution_count": null,
   "metadata": {},
   "outputs": [],
   "source": []
  }
 ],
 "metadata": {
  "kernelspec": {
   "display_name": "Python 3 (ipykernel)",
   "language": "python",
   "name": "python3"
  },
  "language_info": {
   "codemirror_mode": {
    "name": "ipython",
    "version": 3
   },
   "file_extension": ".py",
   "mimetype": "text/x-python",
   "name": "python",
   "nbconvert_exporter": "python",
   "pygments_lexer": "ipython3",
   "version": "3.9.0"
  },
  "toc": {
   "base_numbering": 1,
   "nav_menu": {},
   "number_sections": false,
   "sideBar": false,
   "skip_h1_title": false,
   "title_cell": "Table of Contents",
   "title_sidebar": "Contents",
   "toc_cell": false,
   "toc_position": {},
   "toc_section_display": false,
   "toc_window_display": false
  }
 },
 "nbformat": 4,
 "nbformat_minor": 4
}