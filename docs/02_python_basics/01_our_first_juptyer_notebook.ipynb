{
 "cells": [
  {
   "cell_type": "markdown",
   "metadata": {
    "slideshow": {
     "slide_type": "slide"
    }
   },
   "source": [
    "# Python-Code in Jupyter-Notebooks\n",
    "Python-Code kann in \".py\"-Dateien geschrieben werden, die von der Kommandozeile aus ausgef\u00fchrt werden k\u00f6nnen. Dar\u00fcber hinaus werden f\u00fcr akademische Zwecke h\u00e4ufig [Jupyter-Notebooks](https://jupyter-notebook.readthedocs.io/en/stable/) verwendet, um zu dokumentieren, was der Code tut, und zus\u00e4tzliche Erkl\u00e4rungen und Links zu Ressourcen hinzuzuf\u00fcgen.\n",
    "\n",
    "Siehe auch\n",
    "* [Python 3 Dokumentation](https://docs.python.org/3)\n",
    "* [Python-Grundlagen von The Carpentries](https://swcarpentry.github.io/python-novice-inflammation/)\n",
    "* [Python-Tutorials f\u00fcr Bildverarbeitung und maschinelles Lernen von Digital Sreeni](https://www.youtube.com/playlist?list=PLZsOBAyNTZwYHBIlu_PUO19M7aHMgwBJr)\n",
    "\n",
    "Um unser erstes kleines Python-Programm zu schreiben, tippen wir in die Jupyter-Notebook-Code-Zelle unten. Sie k\u00f6nnen auf diese Zelle doppelklicken, den Code \u00e4ndern und ihn durch Dr\u00fccken von SHIFT+ENTER ausf\u00fchren:"
   ]
  },
  {
   "cell_type": "code",
   "execution_count": 2,
   "metadata": {},
   "outputs": [
    {
     "name": "stdout",
     "output_type": "stream",
     "text": [
      "Hello world\n"
     ]
    }
   ],
   "source": [
    "print(\"Hello world\")"
   ]
  },
  {
   "cell_type": "markdown",
   "metadata": {},
   "source": [
    "* Beim Arbeiten mit Jupyter-Notebooks ist SHIFT-ENTER offensichtlich **die** Tastenkombination, die st\u00e4ndig verwendet wird. \n",
    "* Wenn Sie eine Zelle \"verlassen\" m\u00f6chten, ohne sie auszuf\u00fchren, k\u00f6nnen Sie auch ESC dr\u00fccken. \n",
    "* Sie k\u00f6nnen eine neue Zelle **o**berhalb der aktuellen Zelle hinzuf\u00fcgen, indem Sie A dr\u00fccken, und **u**nterhalb, indem Sie B dr\u00fccken. \n",
    "* Sie k\u00f6nnen Zellen l\u00f6schen, indem Sie D dr\u00fccken.\n",
    "\n",
    "Es gibt noch mehr Tastenkombinationen. Sie k\u00f6nnen sie alle im Men\u00fc oben unter Hilfe > Tastaturk\u00fcrzel sehen oder indem Sie H dr\u00fccken.\n",
    "\n",
    "Probieren Sie es aus!"
   ]
  },
  {
   "cell_type": "code",
   "execution_count": null,
   "metadata": {},
   "outputs": [],
   "source": []
  },
  {
   "cell_type": "code",
   "execution_count": null,
   "metadata": {},
   "outputs": [],
   "source": []
  },
  {
   "cell_type": "code",
   "execution_count": null,
   "metadata": {},
   "outputs": [],
   "source": []
  },
  {
   "cell_type": "markdown",
   "metadata": {
    "slideshow": {
     "slide_type": "slide"
    }
   },
   "source": [
    "## Markdown-Dokumentation in Jupyter-Notebooks\n",
    "Markdown ist eine Codierungssprache zur Beschreibung der **Formatierung** ~von~ *Text*. Um den Markdown-Code zu sehen, der diesen Text beschreibt, doppelklicken Sie auf diese Zelle in Ihrem Jupyter-Notebook. Dr\u00fccken Sie SHIFT+ENTER, um in den Anzeigemodus zur\u00fcckzukehren.\n",
    "\n",
    "* Aufz\u00e4hlungspunkt\n",
    "* Weitere Aufz\u00e4hlungspunkte\n",
    "  * Tiefere Aufz\u00e4hlungspunkte\n",
    "\n",
    "1. Listeneintrag\n",
    "2. Weiterer Listeneintrag\n",
    "4. Weitere Listeneintr\u00e4ge\n",
    "8. [Markdown-Spickzettel](https://github.com/adam-p/markdown-here/wiki/Markdown-Cheatsheet)"
   ]
  },
  {
   "cell_type": "markdown",
   "metadata": {},
   "source": [
    "# \u00dcbung\n",
    "F\u00fcgen Sie unten eine neue Python-Code-Zelle hinzu und verwenden Sie den Befehl `print`, um Ihren Namen auszugeben."
   ]
  }
 ],
 "metadata": {
  "kernelspec": {
   "display_name": "Python 3 (ipykernel)",
   "language": "python",
   "name": "python3"
  },
  "language_info": {
   "codemirror_mode": {
    "name": "ipython",
    "version": 3
   },
   "file_extension": ".py",
   "mimetype": "text/x-python",
   "name": "python",
   "nbconvert_exporter": "python",
   "pygments_lexer": "ipython3",
   "version": "3.9.0"
  }
 },
 "nbformat": 4,
 "nbformat_minor": 4
}