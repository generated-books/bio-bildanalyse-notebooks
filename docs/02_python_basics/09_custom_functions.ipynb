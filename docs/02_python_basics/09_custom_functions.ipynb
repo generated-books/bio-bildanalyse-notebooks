{
 "cells": [
  {
   "cell_type": "markdown",
   "metadata": {},
   "source": [
    "# Funktionen\n",
    "Wir haben Funktionen in fr\u00fcheren Lektionen verwendet. Funktionen haben einen Namen und Parameter. Einige geben ein Ergebnis zur\u00fcck, andere nicht. Typischerweise rufen wir sie mit `result = name(parameters)` auf.\n",
    "\n",
    "Siehe auch\n",
    "* [Python-Funktionen](https://www.tutorialspoint.com/python/python_functions.htm)\n",
    "* [Liste der eingebauten Funktionen](https://docs.python.org/3/library/functions.html)\n",
    "\n",
    "Schauen wir uns einige Funktionen an, zum Beispiel `print(text)` und `pow(x, y)`. Die print-Funktion nimmt einen Parameter (oder mehrere Parameter) und gibt nichts zur\u00fcck:"
   ]
  },
  {
   "cell_type": "code",
   "execution_count": 1,
   "metadata": {},
   "outputs": [
    {
     "name": "stdout",
     "output_type": "stream",
     "text": [
      "Hello world\n"
     ]
    }
   ],
   "source": [
    "result = print('Hello world')"
   ]
  },
  {
   "cell_type": "code",
   "execution_count": 2,
   "metadata": {},
   "outputs": [],
   "source": [
    "result"
   ]
  },
  {
   "cell_type": "markdown",
   "metadata": {},
   "source": [
    "Die [pow](https://docs.python.org/3/library/functions.html#pow)-Funktion hat zwei Parameter und gibt ein Ergebnis zur\u00fcck:"
   ]
  },
  {
   "cell_type": "code",
   "execution_count": 3,
   "metadata": {},
   "outputs": [],
   "source": [
    "result = pow(2, 3)"
   ]
  },
  {
   "cell_type": "code",
   "execution_count": 4,
   "metadata": {},
   "outputs": [
    {
     "data": {
      "text/plain": [
       "8"
      ]
     },
     "execution_count": 4,
     "metadata": {},
     "output_type": "execute_result"
    }
   ],
   "source": [
    "result"
   ]
  },
  {
   "cell_type": "markdown",
   "metadata": {},
   "source": [
    "## Benutzerdefinierte Funktionen\n",
    "Sie k\u00f6nnen Ihre eigenen Funktionen mit der `def`-Anweisung DEFinieren. Nach der def-Anweisung sollten Sie den Namen Ihrer Funktion und in Klammern ihre Parameter angeben. Danach folgt ein Doppelpunkt `:` und alle folgenden einger\u00fcckten Codezeilen geh\u00f6ren zu dieser Funktion. Eine abschlie\u00dfende `return`-Anweisung sendet das Ergebnis dorthin zur\u00fcck, von wo die Funktion aufgerufen wurde."
   ]
  },
  {
   "cell_type": "code",
   "execution_count": 5,
   "metadata": {},
   "outputs": [],
   "source": [
    "def sum_numbers(a, b):\n",
    "    \n",
    "    result = a + b\n",
    "    \n",
    "    return result"
   ]
  },
  {
   "cell_type": "markdown",
   "metadata": {},
   "source": [
    "Sie k\u00f6nnen dann Ihre Funktion so oft aufrufen, wie Sie m\u00f6chten"
   ]
  },
  {
   "cell_type": "code",
   "execution_count": 6,
   "metadata": {},
   "outputs": [
    {
     "data": {
      "text/plain": [
       "7"
      ]
     },
     "execution_count": 6,
     "metadata": {},
     "output_type": "execute_result"
    }
   ],
   "source": [
    "sum_numbers(3, 4)"
   ]
  },
  {
   "cell_type": "code",
   "execution_count": 7,
   "metadata": {},
   "outputs": [
    {
     "data": {
      "text/plain": [
       "11"
      ]
     },
     "execution_count": 7,
     "metadata": {},
     "output_type": "execute_result"
    }
   ],
   "source": [
    "sum_numbers(5, 6)"
   ]
  },
  {
   "cell_type": "markdown",
   "metadata": {},
   "source": [
    "Manchmal m\u00f6chten Sie das Ergebnis Ihrer Funktion in einer Variable speichern."
   ]
  },
  {
   "cell_type": "code",
   "execution_count": 8,
   "metadata": {},
   "outputs": [
    {
     "name": "stdout",
     "output_type": "stream",
     "text": [
      "9\n"
     ]
    }
   ],
   "source": [
    "c = sum_numbers(4, 5)\n",
    "print(c)"
   ]
  },
  {
   "cell_type": "markdown",
   "metadata": {},
   "source": [
    "## Code mit Funktionen vereinfachen\n",
    "Angenommen, Sie haben einen komplizierten Algorithmus, der Ihnen sagen kann, ob eine Zahl ungerade oder gerade ist. Lassen Sie uns diesen Algorithmus in eine Funktion packen und sp\u00e4ter aufrufen. F\u00fcr unseren Algorithmus verwenden wir den [Modulo-Operator %](https://en.wikipedia.org/wiki/Modulo_operation)."
   ]
  },
  {
   "cell_type": "code",
   "execution_count": 9,
   "metadata": {},
   "outputs": [],
   "source": [
    "def print_odd_or_even(number):\n",
    "    if number % 2 == 0:\n",
    "        print(number, \"is even\")\n",
    "    else:\n",
    "        print(number, \"is odd\")"
   ]
  },
  {
   "cell_type": "code",
   "execution_count": 10,
   "metadata": {},
   "outputs": [
    {
     "name": "stdout",
     "output_type": "stream",
     "text": [
      "3 is odd\n"
     ]
    }
   ],
   "source": [
    "print_odd_or_even(3)"
   ]
  },
  {
   "cell_type": "code",
   "execution_count": 11,
   "metadata": {},
   "outputs": [
    {
     "name": "stdout",
     "output_type": "stream",
     "text": [
      "4 is even\n"
     ]
    }
   ],
   "source": [
    "print_odd_or_even(4)"
   ]
  },
  {
   "cell_type": "code",
   "execution_count": 12,
   "metadata": {},
   "outputs": [
    {
     "name": "stdout",
     "output_type": "stream",
     "text": [
      "10 is even\n"
     ]
    }
   ],
   "source": [
    "print_odd_or_even(10)"
   ]
  },
  {
   "cell_type": "markdown",
   "metadata": {},
   "source": [
    "Anstatt also immer wieder denselben `if-else`-Block zu schreiben, k\u00f6nnen wir einfach unsere benutzerdefinierte `print_odd_or_even`-Funktion aufrufen."
   ]
  },
  {
   "cell_type": "markdown",
   "metadata": {},
   "source": [
    "## Funktionen dokumentieren\n",
    "Sie k\u00f6nnen dokumentieren, was eine Funktion tut, in ihrem sogenannten Docstring. Der Docstring folgt direkt nach dem Funktionskopf und sieht so aus:"
   ]
  },
  {
   "cell_type": "code",
   "execution_count": 13,
   "metadata": {},
   "outputs": [],
   "source": [
    "def square(number):\n",
    "    '''\n",
    "    Quadriert eine Zahl, indem sie mit sich selbst multipliziert wird, und gibt das Ergebnis zur\u00fcck.\n",
    "    '''\n",
    "\n",
    "    return number * number"
   ]
  },
  {
   "cell_type": "markdown",
   "metadata": {},
   "source": [
    "Sie k\u00f6nnen dann sp\u00e4ter die Dokumentation der Funktion wie folgt lesen:"
   ]
  },
  {
   "cell_type": "code",
   "execution_count": 14,
   "metadata": {},
   "outputs": [
    {
     "name": "stdout",
     "output_type": "stream",
     "text": [
      "\n",
      "    Squares a number by multiplying it with itself  and returns its result.\n",
      "    \n"
     ]
    }
   ],
   "source": [
    "print(square.__doc__)"
   ]
  },
  {
   "cell_type": "markdown",
   "metadata": {},
   "source": [
    "Probieren Sie auch dies aus, wenn Sie den Docstring nebeneinander in Ihrem Notebook angezeigt haben m\u00f6chten:"
   ]
  },
  {
   "cell_type": "code",
   "execution_count": 15,
   "metadata": {},
   "outputs": [
    {
     "data": {
      "text/plain": [
       "\u001b[0;31mSignature:\u001b[0m \u001b[0msquare\u001b[0m\u001b[0;34m(\u001b[0m\u001b[0mnumber\u001b[0m\u001b[0;34m)\u001b[0m\u001b[0;34m\u001b[0m\u001b[0;34m\u001b[0m\u001b[0m\n",
       "\u001b[0;31mDocstring:\u001b[0m Squares a number by multiplying it with itself  and returns its result.\n",
       "\u001b[0;31mFile:\u001b[0m      /var/folders/p1/6svzckgd1y5906pfgm71fvmr0000gn/T/ipykernel_11914/1507435947.py\n",
       "\u001b[0;31mType:\u001b[0m      function\n"
      ]
     },
     "metadata": {},
     "output_type": "display_data"
    }
   ],
   "source": [
    "square?"
   ]
  },
  {
   "cell_type": "markdown",
   "metadata": {},
   "source": [
    "\u00dcbrigens k\u00f6nnen Sie dies mit jeder Funktion machen:"
   ]
  },
  {
   "cell_type": "code",
   "execution_count": 16,
   "metadata": {},
   "outputs": [
    {
     "name": "stdout",
     "output_type": "stream",
     "text": [
      "Return the square root of x.\n"
     ]
    }
   ],
   "source": [
    "import math\n",
    "print(math.sqrt.__doc__)"
   ]
  },
  {
   "cell_type": "code",
   "execution_count": 17,
   "metadata": {},
   "outputs": [
    {
     "name": "stdout",
     "output_type": "stream",
     "text": [
      "Return e raised to the power of x.\n"
     ]
    }
   ],
   "source": [
    "print(math.exp.__doc__)"
   ]
  },
  {
   "cell_type": "markdown",
   "metadata": {},
   "source": [
    "## \u00dcbung\n",
    "Schreiben Sie eine Funktion, die zwei Parameter annimmt: `number_of_points_in_exam` und `number_of_total_points_in_exam` und eine Note von 1 bis 5 zur\u00fcckgibt. Studenten mit > 95% der Punkte bekommen Note 1, \u00fcber 80% bekommen sie Note 2, \u00fcber 60% Note 3 und \u00fcber 50% Note 4. Studenten mit weniger als 50% bekommen Note 5 und m\u00fcssen die Pr\u00fcfung wiederholen. Rufen Sie dann die Funktion f\u00fcr drei Studenten auf, die 15, 25 und 29 Punkte in einer Pr\u00fcfung mit insgesamt 30 Punkten hatten."
   ]
  },
  {
   "cell_type": "code",
   "execution_count": null,
   "metadata": {},
   "outputs": [],
   "source": []
  }
 ],
 "metadata": {
  "kernelspec": {
   "display_name": "Python 3 (ipykernel)",
   "language": "python",
   "name": "python3"
  },
  "language_info": {
   "codemirror_mode": {
    "name": "ipython",
    "version": 3
   },
   "file_extension": ".py",
   "mimetype": "text/x-python",
   "name": "python",
   "nbconvert_exporter": "python",
   "pygments_lexer": "ipython3",
   "version": "3.9.0"
  },
  "toc": {
   "base_numbering": 1,
   "nav_menu": {},
   "number_sections": false,
   "sideBar": false,
   "skip_h1_title": false,
   "title_cell": "Table of Contents",
   "title_sidebar": "Contents",
   "toc_cell": false,
   "toc_position": {},
   "toc_section_display": false,
   "toc_window_display": false
  }
 },
 "nbformat": 4,
 "nbformat_minor": 4
}