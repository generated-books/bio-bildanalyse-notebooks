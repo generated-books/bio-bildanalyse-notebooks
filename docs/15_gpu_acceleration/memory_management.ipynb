{
 "cells": [
  {
   "cell_type": "markdown",
   "id": "cb1fdbe0",
   "metadata": {},
   "source": [
    "# Verfolgung des Speicherverbrauchs\n",
    "Bei der Einrichtung komplexer Workflows kann es sinnvoll sein, einen Blick auf den Speicherverbrauch zu werfen. In interaktiven Umgebungen kann der Benutzer den Windows Task-Manager verwenden, um zu sehen, wie stark der GPU-Speicher ausgelastet ist. Das k\u00f6nnte f\u00fcr Skripte umst\u00e4ndlich sein. Bei Verwendung einer Nvidia-GPU kann folgendes Verfahren zur Fehlersuche beim Speicherverbrauch des Workflows verwendet werden."
   ]
  },
  {
   "cell_type": "code",
   "execution_count": 1,
   "id": "01a6ede9",
   "metadata": {},
   "outputs": [
    {
     "data": {
      "text/plain": [
       "<NVIDIA GeForce RTX 3050 Ti Laptop GPU on Platform: NVIDIA CUDA (1 refs)>"
      ]
     },
     "execution_count": 1,
     "metadata": {},
     "output_type": "execute_result"
    }
   ],
   "source": [
    "import numpy as np\n",
    "import pyclesperanto_prototype as cle\n",
    "\n",
    "cle.select_device(\"RTX\")"
   ]
  },
  {
   "cell_type": "markdown",
   "id": "8a0e81e0",
   "metadata": {},
   "source": [
    "Zur \u00dcberwachung des Speicherverbrauchs kann man [nvidia-smi](https://nvidia.custhelp.com/app/answers/detail/a_id/3751/~/useful-nvidia-smi-queries) verwenden, ein Kommandozeilenwerkzeug, das ausgeben kann, wie viel Speicher derzeit in einer bestimmten GPU von einer beliebigen Anwendung blockiert wird:"
   ]
  },
  {
   "cell_type": "code",
   "execution_count": 2,
   "id": "bedbd481",
   "metadata": {},
   "outputs": [
    {
     "name": "stdout",
     "output_type": "stream",
     "text": [
      "memory.used [MiB]\n",
      "178 MiB\n"
     ]
    }
   ],
   "source": [
    "!nvidia-smi --query-gpu=memory.used --format=csv"
   ]
  },
  {
   "cell_type": "markdown",
   "id": "3ed5c332",
   "metadata": {},
   "source": [
    "Wenn wir dann eine Operation auf der GPU ausf\u00fchren und den Speicherverbrauch erneut \u00fcberpr\u00fcfen, sollten wir einen Anstieg sehen."
   ]
  },
  {
   "cell_type": "code",
   "execution_count": 3,
   "id": "2f06ebac",
   "metadata": {},
   "outputs": [],
   "source": [
    "image = np.random.random((1024, 1024, 100))\n",
    "\n",
    "blurred = cle.gaussian_blur(image)"
   ]
  },
  {
   "cell_type": "code",
   "execution_count": 4,
   "id": "f5328a54",
   "metadata": {},
   "outputs": [
    {
     "name": "stdout",
     "output_type": "stream",
     "text": [
      "memory.used [MiB]\n",
      "580 MiB\n"
     ]
    }
   ],
   "source": [
    "!nvidia-smi --query-gpu=memory.used --format=csv"
   ]
  },
  {
   "cell_type": "markdown",
   "id": "9587fb0c",
   "metadata": {},
   "source": [
    "Der Befehl `del` erm\u00f6glicht es, Speicher freizugeben. Hinweis: Der Speicher hinter der Variable wird m\u00f6glicherweise nicht sofort freigegeben, abh\u00e4ngig davon, wie besch\u00e4ftigt das System im Moment ist."
   ]
  },
  {
   "cell_type": "code",
   "execution_count": 5,
   "id": "39400e4a",
   "metadata": {},
   "outputs": [],
   "source": [
    "del blurred"
   ]
  },
  {
   "cell_type": "code",
   "execution_count": 6,
   "id": "8bef3a3f",
   "metadata": {},
   "outputs": [
    {
     "name": "stdout",
     "output_type": "stream",
     "text": [
      "memory.used [MiB]\n",
      "180 MiB\n"
     ]
    }
   ],
   "source": [
    "!nvidia-smi --query-gpu=memory.used --format=csv"
   ]
  },
  {
   "cell_type": "code",
   "execution_count": null,
   "id": "fdcd417c",
   "metadata": {},
   "outputs": [],
   "source": []
  }
 ],
 "metadata": {
  "kernelspec": {
   "display_name": "Python 3 (ipykernel)",
   "language": "python",
   "name": "python3"
  },
  "language_info": {
   "codemirror_mode": {
    "name": "ipython",
    "version": 3
   },
   "file_extension": ".py",
   "mimetype": "text/x-python",
   "name": "python",
   "nbconvert_exporter": "python",
   "pygments_lexer": "ipython3",
   "version": "3.9.9"
  }
 },
 "nbformat": 4,
 "nbformat_minor": 5
}